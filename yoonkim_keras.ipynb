{
 "cells": [
  {
   "cell_type": "markdown",
   "metadata": {},
   "source": [
    "## Create same train/test sets as YoonKim\n"
   ]
  },
  {
   "cell_type": "code",
   "execution_count": null,
   "metadata": {},
   "outputs": [],
   "source": [
    "import pickle\n",
    "import numpy as np\n",
    "\n",
    "\n",
    "def get_idx_from_sent(sent, word_idx_map, max_l=51, k=300, filter_h=5):\n",
    "    \"\"\"\n",
    "    Transforms sentence into a list of indices. Pad with zeroes.\n",
    "    \"\"\"\n",
    "    x = []\n",
    "    pad = filter_h - 1\n",
    "    for i in range(pad):\n",
    "        x.append(0)\n",
    "    words = sent.split()\n",
    "    for word in words:\n",
    "        if word in word_idx_map:\n",
    "            x.append(word_idx_map[word])\n",
    "    while len(x) < max_l+2*pad:\n",
    "        x.append(0)\n",
    "    return x\n",
    "\n",
    "def make_idx_data_cv(revs, word_idx_map, cv, max_l=51, k=300, filter_h=5):\n",
    "    \"\"\"\n",
    "    Transforms sentences into a 2-d matrix.\n",
    "    \"\"\"\n",
    "    train, test = [], []\n",
    "    for rev in revs:\n",
    "        sent = get_idx_from_sent(rev[\"text\"], word_idx_map, max_l, k, filter_h)   \n",
    "        sent.append(rev[\"y\"])\n",
    "        if rev[\"split\"] == cv:            \n",
    "            test.append(sent)        \n",
    "        else:  \n",
    "            train.append(sent)   \n",
    "    train = np.array(train, dtype=\"int\")\n",
    "    test = np.array(test, dtype=\"int\")\n",
    "    return [train, test] \n",
    "\n",
    "# revs  = [ {\n",
    "#    num_words: number of words in sentence\n",
    "#    split: which split of the cv\n",
    "#    text: text to classify\n",
    "#    y: 1 for positive, 0 for negative\n",
    "#}]\n",
    "\n",
    "# W = google pretrained word2vec matrix, each column represent a word\n",
    "# W2 = random generated word2vec matrix, each column represent a word\n",
    "\n",
    "# word_idx_map: word -> column number in word2vec matrix\n",
    "# vocab = set of all words in dataset\n",
    "mr = pickle.load(open(\"mr.p\",\"rb\"))\n",
    "revs, W, W2, word_idx_map, vocab = mr[0], mr[1], mr[2], mr[3], mr[4]\n",
    "print( \"data loaded!\" )"
   ]
  },
  {
   "cell_type": "code",
   "execution_count": 2,
   "metadata": {
    "collapsed": true
   },
   "outputs": [],
   "source": [
    "from sklearn import preprocessing\n",
    "W3 = preprocessing.normalize(W, norm='l2')"
   ]
  },
  {
   "cell_type": "code",
   "execution_count": 3,
   "metadata": {},
   "outputs": [
    {
     "name": "stderr",
     "output_type": "stream",
     "text": [
      "Using TensorFlow backend.\n"
     ]
    }
   ],
   "source": [
    "import keras\n",
    "import os\n",
    "\n",
    "os.environ[\"CUDA_DEVICE_ORDER\"]=\"PCI_BUS_ID\"   # see issue #152\n",
    "os.environ[\"CUDA_VISIBLE_DEVICES\"]=\"\""
   ]
  },
  {
   "cell_type": "code",
   "execution_count": 4,
   "metadata": {
    "collapsed": true
   },
   "outputs": [],
   "source": [
    "from keras.layers import Input, Dense, Flatten, Embedding\n",
    "from keras.models import Model\n",
    "from keras.layers import Conv1D, GlobalMaxPooling1D, Input, Add, Dropout\n",
    "from keras.layers.merge import Concatenate\n",
    "\n",
    "np.random.seed(2017)\n",
    "\n",
    "assert W.shape == W2.shape == W3.shape\n",
    "vocab_size, vec_size = W.shape\n",
    "sent_length = 64 # train_X.shape[1]\n",
    "\n",
    "num_filters = 100\n",
    "kernel_sizes = [3,4,5]\n",
    "batch_size = 50\n",
    "dropout_rate = 0.5\n",
    "l2_constraint = 3\n",
    "\n",
    "# TODO: check all layer initializers\n",
    "\n",
    "def conv(x):\n",
    "    cs = []\n",
    "    for kernel_size in kernel_sizes:\n",
    "        c = Conv1D( filters=num_filters, \n",
    "          kernel_size=kernel_size, \n",
    "          padding=\"valid\", # i.e. no additional padding\n",
    "          activation=\"relu\",\n",
    "          strides=1)(x)\n",
    "        c = GlobalMaxPooling1D()(c)\n",
    "        cs.append( c )\n",
    "    return Concatenate()(cs)\n",
    "\n",
    "def get_model( static=True, inital_embedding=W ):\n",
    "    inputs = Input(shape=(64,))\n",
    "    x = Embedding( input_dim=vocab_size, \n",
    "              output_dim=vec_size, \n",
    "              input_length=sent_length, \n",
    "              weights=[ inital_embedding ], \n",
    "              trainable=(not static) )(inputs)\n",
    "    x = conv( x )\n",
    "    predictions = Dense(1, kernel_initializer='normal', \n",
    "            #kernel_regularizer=regularizers.l2(3.), \n",
    "            activation='sigmoid')(x)\n",
    "    model = Model( inputs=inputs, outputs=predictions )\n",
    "    model.compile( optimizer='Adadelta',\n",
    "              loss='binary_crossentropy',\n",
    "              metrics=['binary_accuracy'] )\n",
    "    return model\n",
    "\n",
    "def multi_chnnel_conv( x1, x2 ):\n",
    "    cs = []\n",
    "    for kernel_size in kernel_sizes:\n",
    "        shared_conv = Conv1D( filters=num_filters, \n",
    "          kernel_size=kernel_size, \n",
    "          padding=\"valid\",\n",
    "          activation=\"relu\",\n",
    "          strides=1)\n",
    "        \n",
    "        c1 = shared_conv( x1 )\n",
    "        c2 = shared_conv( x2 )\n",
    "        \n",
    "        c1 = GlobalMaxPooling1D()(c1)\n",
    "        c2 = GlobalMaxPooling1D()(c2)\n",
    "        \n",
    "        c = Add()( [c1, c2] )\n",
    "        cs.append( c )\n",
    "    return Concatenate()(cs)\n",
    "\n",
    "def get_multi_channel_model( inital_embedding=W ):\n",
    "    inputs = Input(shape=(64,))\n",
    "    x_static = Embedding( input_dim=vocab_size, \n",
    "              output_dim=vec_size, \n",
    "              input_length=sent_length, \n",
    "              weights=[ inital_embedding ], \n",
    "              trainable=False )(inputs)\n",
    "    \n",
    "    x_non_static = Embedding( input_dim=vocab_size, \n",
    "              output_dim=vec_size, \n",
    "              input_length=sent_length, \n",
    "              weights=[ inital_embedding ], \n",
    "              trainable=True )(inputs)\n",
    "    \n",
    "    x = multi_chnnel_conv( x_static, x_non_static )\n",
    "    predictions = Dense(1, kernel_initializer='normal', \n",
    "            #kernel_regularizer=regularizers.l2(3.), \n",
    "            activation='sigmoid')(x)\n",
    "    model = Model( inputs=inputs, outputs=predictions )\n",
    "    model.compile( optimizer='Adadelta',\n",
    "              loss='binary_crossentropy',\n",
    "              metrics=['binary_accuracy'] )\n",
    "    return model"
   ]
  },
  {
   "cell_type": "code",
   "execution_count": 8,
   "metadata": {},
   "outputs": [
    {
     "name": "stdout",
     "output_type": "stream",
     "text": [
      "Train on 9592 samples, validate on 1070 samples\n",
      "Epoch 1/1\n",
      "9592/9592 [==============================] - 55s 6ms/step - loss: 0.5575 - binary_accuracy: 0.7253 - val_loss: 0.4819 - val_binary_accuracy: 0.7654\n",
      "1070/1070 [==============================] - 2s 2ms/step\n",
      "Train on 9557 samples, validate on 1105 samples\n",
      "Epoch 1/1\n",
      "9557/9557 [==============================] - 63s 7ms/step - loss: 0.5564 - binary_accuracy: 0.7183 - val_loss: 0.5049 - val_binary_accuracy: 0.7493\n",
      "1105/1105 [==============================] - 2s 2ms/step\n"
     ]
    },
    {
     "ename": "TypeError",
     "evalue": "unsupported operand type(s) for +: 'int' and 'list'",
     "output_type": "error",
     "traceback": [
      "\u001b[0;31m---------------------------------------------------------------------------\u001b[0m",
      "\u001b[0;31mTypeError\u001b[0m                                 Traceback (most recent call last)",
      "\u001b[0;32m<ipython-input-8-7a73b85c8724>\u001b[0m in \u001b[0;36m<module>\u001b[0;34m()\u001b[0m\n\u001b[1;32m     11\u001b[0m     \u001b[0mscore\u001b[0m \u001b[0;34m=\u001b[0m \u001b[0mmodel\u001b[0m\u001b[0;34m.\u001b[0m\u001b[0mevaluate\u001b[0m\u001b[0;34m(\u001b[0m \u001b[0mtest_X\u001b[0m\u001b[0;34m,\u001b[0m \u001b[0mtest_y\u001b[0m \u001b[0;34m)\u001b[0m\u001b[0;34m\u001b[0m\u001b[0m\n\u001b[1;32m     12\u001b[0m     \u001b[0mscores\u001b[0m\u001b[0;34m.\u001b[0m\u001b[0mappend\u001b[0m\u001b[0;34m(\u001b[0m \u001b[0mscore\u001b[0m \u001b[0;34m)\u001b[0m\u001b[0;34m\u001b[0m\u001b[0m\n\u001b[0;32m---> 13\u001b[0;31m \u001b[0mprint\u001b[0m\u001b[0;34m(\u001b[0m\u001b[0;34m'final cross validation scores: {0:.2f}'\u001b[0m\u001b[0;34m.\u001b[0m\u001b[0mformat\u001b[0m\u001b[0;34m(\u001b[0m\u001b[0msum\u001b[0m\u001b[0;34m(\u001b[0m\u001b[0mscores\u001b[0m\u001b[0;34m)\u001b[0m\u001b[0;34m/\u001b[0m\u001b[0mlen\u001b[0m\u001b[0;34m(\u001b[0m\u001b[0mscores\u001b[0m\u001b[0;34m)\u001b[0m\u001b[0;34m)\u001b[0m\u001b[0;34m)\u001b[0m\u001b[0;34m\u001b[0m\u001b[0m\n\u001b[0m",
      "\u001b[0;31mTypeError\u001b[0m: unsupported operand type(s) for +: 'int' and 'list'"
     ]
    }
   ],
   "source": [
    "scores = []\n",
    "for i in range(10):\n",
    "    train, test = make_idx_data_cv(revs, word_idx_map, i, max_l=56, k=300, filter_h=5)\n",
    "    \n",
    "    # X is (,64) where 64 comes from pad + 56 + pad where pad=filter_h-1=5-1=4\n",
    "    train_X, train_y = train[:,:-1], train[:,-1]\n",
    "    test_X, test_y = test[:,:-1], test[:,-1]\n",
    "    \n",
    "    model = get_model()\n",
    "    model.fit( train_X, train_y, batch_size=50, epochs=25, validation_data=(test_X, test_y))\n",
    "    score = model.evaluate( test_X, test_y )\n",
    "    scores.append( score[1] )\n",
    "print('final cross validation scores: {0:.2f}'.format(sum(scores)/len(scores)))"
   ]
  },
  {
   "cell_type": "code",
   "execution_count": null,
   "metadata": {
    "collapsed": true
   },
   "outputs": [],
   "source": []
  }
 ],
 "metadata": {
  "kernelspec": {
   "display_name": "Python 3",
   "language": "python",
   "name": "python3"
  },
  "language_info": {
   "codemirror_mode": {
    "name": "ipython",
    "version": 3
   },
   "file_extension": ".py",
   "mimetype": "text/x-python",
   "name": "python",
   "nbconvert_exporter": "python",
   "pygments_lexer": "ipython3",
   "version": "3.6.5"
  }
 },
 "nbformat": 4,
 "nbformat_minor": 2
}
